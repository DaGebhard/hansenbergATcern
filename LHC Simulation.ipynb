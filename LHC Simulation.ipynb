{
 "cells": [
  {
   "cell_type": "markdown",
   "metadata": {},
   "source": [
    "# Simulation of LHC instabilities"
   ]
  },
  {
   "cell_type": "markdown",
   "metadata": {},
   "source": [
    "## Imports"
   ]
  },
  {
   "cell_type": "code",
   "execution_count": 1,
   "metadata": {},
   "outputs": [],
   "source": [
    "'''\n",
    "Simulation of beam interaction with coupling impedance and damper\n",
    "for a single bunch\n",
    "'''\n",
    "\n",
    "# using Python 2.7:\n",
    "from __future__ import division, print_function"
   ]
  },
  {
   "cell_type": "code",
   "execution_count": 2,
   "metadata": {},
   "outputs": [],
   "source": [
    "range_ = range\n",
    "range = xrange"
   ]
  },
  {
   "cell_type": "code",
   "execution_count": 3,
   "metadata": {},
   "outputs": [],
   "source": [
    "import sys"
   ]
  },
  {
   "cell_type": "code",
   "execution_count": 4,
   "metadata": {},
   "outputs": [],
   "source": [
    "import time"
   ]
  },
  {
   "cell_type": "code",
   "execution_count": 5,
   "metadata": {},
   "outputs": [],
   "source": [
    "import numpy as np"
   ]
  },
  {
   "cell_type": "code",
   "execution_count": 6,
   "metadata": {},
   "outputs": [],
   "source": [
    "import matplotlib.pyplot as plt\n",
    "%matplotlib inline"
   ]
  },
  {
   "cell_type": "code",
   "execution_count": 7,
   "metadata": {},
   "outputs": [],
   "source": [
    "np.random.seed(10000042)"
   ]
  },
  {
   "cell_type": "code",
   "execution_count": 8,
   "metadata": {},
   "outputs": [
    {
     "name": "stderr",
     "output_type": "stream",
     "text": [
      "/home/dagebhar/anaconda2/lib/python2.7/site-packages/h5py/__init__.py:36: FutureWarning: Conversion of the second argument of issubdtype from `float` to `np.floating` is deprecated. In future, it will be treated as `np.float64 == np.dtype(float).type`.\n",
      "  from ._conv import register_converters as _register_converters\n"
     ]
    }
   ],
   "source": [
    "import h5py"
   ]
  },
  {
   "cell_type": "code",
   "execution_count": 9,
   "metadata": {},
   "outputs": [],
   "source": [
    "from scipy.constants import e, m_p,c"
   ]
  },
  {
   "cell_type": "code",
   "execution_count": 10,
   "metadata": {},
   "outputs": [
    {
     "name": "stdout",
     "output_type": "stream",
     "text": [
      "PyHEADTAIL v1.12.4\n",
      "\n",
      "\n"
     ]
    }
   ],
   "source": [
    "from PyHEADTAIL.particles.slicing import UniformBinSlicer\n",
    "from PyHEADTAIL.impedances.wakes import WakeTable, WakeField\n",
    "from PyHEADTAIL.feedback.transverse_damper import TransverseDamper\n",
    "from PyHEADTAIL.monitors.monitors import (\n",
    "    BunchMonitor, ParticleMonitor, SliceMonitor)"
   ]
  },
  {
   "cell_type": "markdown",
   "metadata": {},
   "source": [
    "## Defining the paramters of the machine and the beam"
   ]
  },
  {
   "cell_type": "code",
   "execution_count": 11,
   "metadata": {},
   "outputs": [],
   "source": [
    "n_macroparticles = 100000\n",
    "n_turns = 10000\n",
    "n_turns_slicemon = 2048"
   ]
  },
  {
   "cell_type": "code",
   "execution_count": 12,
   "metadata": {},
   "outputs": [],
   "source": [
    "machine_configuration = 'LHC-injection'\n",
    "wakefile = ('./wakeforhdtl_PyZbase_Allthemachine_450GeV_B1_LHC_inj_450GeV_B1.dat')"
   ]
  },
  {
   "cell_type": "code",
   "execution_count": 13,
   "metadata": {},
   "outputs": [],
   "source": [
    "def get_nonlinear_params(chroma, i_oct, p0 = 6.5e12*e/c):\n",
    "    app_x = 2 * p0 * 27380.10941 * i_oct / 100.\n",
    "    app_y = 2 * p0 * 28875.03442 * i_oct / 100.\n",
    "    app_xy = 2 * p0 * -21766.48714 * i_oct / 100.\n",
    "    Qpp_x = 4889.00298 * i_oct / 100.\n",
    "    Qpp_y = -2323.147896 * i_oct / 100.\n",
    "    return {\n",
    "        'app_x' : app_x,\n",
    "        'app_y' : app_y,\n",
    "        'app_xy' : app_xy,\n",
    "        'Qp_x' : [chroma,],\n",
    "        'Qp_y' : [chroma,],\n",
    "    }"
   ]
  },
  {
   "cell_type": "code",
   "execution_count": 15,
   "metadata": {},
   "outputs": [],
   "source": [
    "intensity = 1.1e11\n",
    "chroma = -15\n",
    "i_oct = 0"
   ]
  },
  {
   "cell_type": "code",
   "execution_count": 16,
   "metadata": {},
   "outputs": [
    {
     "name": "stdout",
     "output_type": "stream",
     "text": [
      "Synchrotron init. From kwargs: app_y = 4.0122274586557525e-10\n",
      "Synchrotron init. From kwargs: app_x = 3.804505483799897e-10\n",
      "Synchrotron init. From kwargs: app_xy = -3.024484615716878e-10\n",
      "Synchrotron init. From kwargs: Qp_x = [10 ...]\n",
      "Synchrotron init. From kwargs: Qp_y = [10 ...]\n"
     ]
    }
   ],
   "source": [
    "from LHC import LHC\n",
    "# assert machine_configuration == 'LHC_6.5TeV_collision_2016'\n",
    "machine = LHC(n_segments=1,\n",
    "             machine_configuration=machine_configuration,\n",
    "             **get_nonlinear_params(chroma=chroma, i_oct=i_oct))"
   ]
  },
  {
   "cell_type": "code",
   "execution_count": 17,
   "metadata": {},
   "outputs": [
    {
     "name": "stdout",
     "output_type": "stream",
     "text": [
      "*** Maximum RMS bunch length 0.11789515101464537m.\n"
     ]
    },
    {
     "name": "stderr",
     "output_type": "stream",
     "text": [
      "/home/dagebhar/anaconda2/lib/python2.7/site-packages/scipy/integrate/quadpack.py:364: IntegrationWarning: The integral is probably divergent, or slowly convergent.\n",
      "  warnings.warn(msg, IntegrationWarning)\n"
     ]
    },
    {
     "name": "stdout",
     "output_type": "stream",
     "text": [
      "... distance to target bunch length: -8.9938e-02\n",
      "... distance to target bunch length: 2.4701e-02\n",
      "... distance to target bunch length: 2.2562e-02\n",
      "... distance to target bunch length: 4.1288e-03\n",
      "... distance to target bunch length: -8.3052e-03\n",
      "... distance to target bunch length: 6.8813e-04\n",
      "... distance to target bunch length: -1.6258e-05\n",
      "... distance to target bunch length: 2.5726e-07\n",
      "... distance to target bunch length: -3.3308e-08\n",
      "--> Bunch length: 0.08993750859320353\n",
      "--> Emittance: 0.4786669079717185\n",
      "\n",
      "--> Bunch length and emmittance: 0.0901048 m, 0.479249 eVs\n"
     ]
    }
   ],
   "source": [
    "epsn_x = 3.e-6\n",
    "epsn_y = 3.e-6\n",
    "sigma_z = 1.2e-9 * machine.beta*c/4\n",
    "\n",
    "bunch = machine.generate_6D_Gaussian_bunch_matched(\n",
    "n_macroparticles, intensity, epsn_x, epsn_y, sigma_z=sigma_z)\n",
    "\n",
    "print('\\n--> Bunch length and emmittance: {:g} m, {:g} eVs'.format(\n",
    "    bunch.sigma_z(), bunch.epsn_z()))"
   ]
  },
  {
   "cell_type": "code",
   "execution_count": 18,
   "metadata": {
    "scrolled": true
   },
   "outputs": [
    {
     "name": "stdout",
     "output_type": "stream",
     "text": [
      "dipole_x Assuming ultrarelativistic wake.\n",
      "dipole_y Assuming ultrarelativistic wake.\n",
      "dipole_xy Assuming ultrarelativistic wake.\n",
      "dipole_yx Assuming ultrarelativistic wake.\n",
      "quadrupole_x Assuming ultrarelativistic wake.\n",
      "quadrupole_y Assuming ultrarelativistic wake.\n"
     ]
    }
   ],
   "source": [
    "slicer_for_slicemonitor = UniformBinSlicer(\n",
    "    50, z_cuts=(-3*sigma_z, 3*sigma_z))\n",
    "slicer_for_wakefields = UniformBinSlicer(\n",
    "    100, z_cuts=(-3*sigma_z, 3*sigma_z))\n",
    "    \n",
    "wake_table1 = WakeTable(wakefile,\n",
    "                       ['time', 'dipole_x', 'dipole_y', 'quadrupole_x',\n",
    "                       'quadrupole_y', 'dipole_xy', 'dipole_yx'])\n",
    "wake_field = WakeField(slicer_for_wakefields, wake_table1)\n",
    "machine.one_turn_map.append(wake_field)"
   ]
  },
  {
   "cell_type": "markdown",
   "metadata": {},
   "source": [
    "## Simulations"
   ]
  },
  {
   "cell_type": "markdown",
   "metadata": {},
   "source": [
    "without damper (chroma = -15)"
   ]
  },
  {
   "cell_type": "code",
   "execution_count": null,
   "metadata": {},
   "outputs": [],
   "source": [
    "it = 0\n",
    "outputpath = './'\n",
    "\n",
    "try:\n",
    "    bucket = machine.longitudinal_map.get_bucket(bunch)\n",
    "except AttributeError:\n",
    "    bucket = machine.rfbucket\n",
    "\n",
    "simulation_parameters_dict = {\n",
    "    'gamma' : machine.gamma,\n",
    "    'intensity' : intensity,\n",
    "    'Qx' : machine.Q_x,\n",
    "    'Qy' : machine.Q_y,\n",
    "    'Qs' : bucket.Q_s,\n",
    "    'beta_x' : bunch.beta_Twiss_x(),\n",
    "    'beta_y' : bunch.beta_Twiss_y(),\n",
    "    'beta_z' : bucket.beta_z,\n",
    "    'epsn_x' : bunch.epsn_x(),\n",
    "    'epsn_y' : bunch.epsn_y(),\n",
    "    'sigma_z' : bunch.sigma_z(),\n",
    "}\n",
    "bunchmonitor = BunchMonitor(\n",
    "    outputpath+'/bunchmonitor_{:04d}_chroma={:g}'.format(it, chroma),\n",
    "    n_turns, simulation_parameters_dict,\n",
    "    write_buffer_to_file_array=512,\n",
    "    buffersize=4096)\n",
    "slicemonitor = SliceMonitor(\n",
    "    outputpath+'/slicemonitor_{:04d}_chroma={:g}'.format(it, chroma),\n",
    "    n_turns_slicemon,\n",
    "    slicer_for_slicemonitor, simulation_parameters_dict,\n",
    "    write_buffer_to_file_every=1, buffer_size=n_turns_slicemon)\n",
    "\n",
    "s_cnt = 0\n",
    "monitorswitch = False\n",
    "\n",
    "print ('\\n--> Begin tracking...\\n')\n",
    "\n",
    "for i in range(n_turns):\n",
    "\n",
    "    t0 = time.clock()\n",
    "\n",
    "    machine.track(bunch)\n",
    "\n",
    "    ex, ey, ez = bunch.epsn_x(), bunch.epsn_y(), bunch.epsn_z()\n",
    "    mx, my, mz = bunch.mean_x(), bunch.mean_y(), bunch.mean_z()\n",
    "\n",
    "    bunchmonitor.dump(bunch)\n",
    "\n",
    "    if not monitorswitch:\n",
    "        if mx > 1e-2 or my > 1e-2 or i > n_turns - n_turns_slicemon:\n",
    "            print (\"--> Activate slice monitor\")\n",
    "            monitorswitch = True\n",
    "    else:\n",
    "        if s_cnt < n_turns_slicemon:\n",
    "            slicemonitor.dump(bunch)\n",
    "            s_cnt += 1\n",
    "\n",
    "    if not all(np.isfinite(c) for c in [ex, ey, ez, mx, my, mz]):\n",
    "        print ('*** STOPPING SIMULATION: non-finite bunch stats!')\n",
    "        break\n",
    "\n",
    "    if i % 1000 == 0:\n",
    "        t1 = time.clock()\n",
    "        print ('Emittances: ({:.3g}, {:.3g}, {:.3g}) '\n",
    "               '& Centroids: ({:.3g}, {:.3g}, {:.3g})'\n",
    "               '@ turn {:d}, {:g} ms, {:s}'.format(\n",
    "                    ex, ey, ez, mx, my, mz, i, (t1-t0)*1e3, time.strftime(\n",
    "                        \"%d/%m/%Y %H:%M:%S\", time.localtime()))\n",
    "        )\n",
    "\n",
    "print ('\\n*** Successfully completed!')"
   ]
  },
  {
   "cell_type": "code",
   "execution_count": 14,
   "metadata": {},
   "outputs": [],
   "source": [
    "with h5py.File('./bunchmonitor_0000_chroma=-15.h5','r') as bm:\n",
    "    mean_x = np.array(bm['Bunch']['mean_x'])\n",
    "    mean_y = np.array(bm['Bunch']['mean_y'])"
   ]
  },
  {
   "cell_type": "code",
   "execution_count": 37,
   "metadata": {
    "scrolled": true
   },
   "outputs": [
    {
     "data": {
      "image/png": "[encoded data removed]",
      "text/plain": [
       "<matplotlib.figure.Figure at 0x7f8ff01a5310>"
      ]
     },
     "metadata": {},
     "output_type": "display_data"
    }
   ],
   "source": [
    "plt.plot(mean_x, label='x centroid', color='red', alpha=0.6)\n",
    "plt.plot(mean_y, label='y centroid', color='blue', alpha=0.6, zorder=-1)\n",
    "plt.legend(loc=2)\n",
    "#plt.xlim(0, 30)\n",
    "plt.xlabel('turns')\n",
    "plt.ylabel('transverse position $x, y$ [m]')\n",
    "#plt.savefig('../instabilities/without_Damper_Chroma-15', dpi=600)\n",
    "plt.show()"
   ]
  },
  {
   "cell_type": "markdown",
   "metadata": {},
   "source": [
    "with damper (chroma = -15)"
   ]
  },
  {
   "cell_type": "code",
   "execution_count": 19,
   "metadata": {},
   "outputs": [
    {
     "name": "stdout",
     "output_type": "stream",
     "text": [
      "Dampers active\n"
     ]
    }
   ],
   "source": [
    "dampingrate = 50\n",
    "damper = TransverseDamper(dampingrate, dampingrate)\n",
    "machine.one_turn_map.append(damper)\n",
    "bunch = machine.generate_6D_Gaussian_bunch_matched(\n",
    "        n_macroparticles, intensity, epsn_x, epsn_y, sigma_z=sigma_z)"
   ]
  },
  {
   "cell_type": "code",
   "execution_count": null,
   "metadata": {},
   "outputs": [],
   "source": [
    "it = 1\n",
    "outputpath = './'\n",
    "\n",
    "try:\n",
    "    bucket = machine.longitudinal_map.get_bucket(bunch)\n",
    "except AttributeError:\n",
    "    bucket = machine.rfbucket\n",
    "\n",
    "simulation_parameters_dict = {\n",
    "    'gamma' : machine.gamma,\n",
    "    'intensity' : intensity,\n",
    "    'Qx' : machine.Q_x,\n",
    "    'Qy' : machine.Q_y,\n",
    "    'Qs' : bucket.Q_s,\n",
    "    'beta_x' : bunch.beta_Twiss_x(),\n",
    "    'beta_y' : bunch.beta_Twiss_y(),\n",
    "    'beta_z' : bucket.beta_z,\n",
    "    'epsn_x' : bunch.epsn_x(),\n",
    "    'epsn_y' : bunch.epsn_y(),\n",
    "    'sigma_z' : bunch.sigma_z(),\n",
    "}\n",
    "bunchmonitor = BunchMonitor(\n",
    "    outputpath+'/bunchmonitor_{:04d}_chroma={:g}'.format(it, chroma),\n",
    "    n_turns, simulation_parameters_dict,\n",
    "    write_buffer_to_file_array=512,\n",
    "    buffersize=4096)\n",
    "slicemonitor = SliceMonitor(\n",
    "    outputpath+'/slicemonitor_{:04d}_chroma={:g}'.format(it, chroma),\n",
    "    n_turns_slicemon,\n",
    "    slicer_for_slicemonitor, simulation_parameters_dict,\n",
    "    write_buffer_to_file_every=1, buffer_size=n_turns_slicemon)\n",
    "\n",
    "s_cnt = 0\n",
    "monitorswitch = False\n",
    "\n",
    "print ('\\n--> Begin tracking...\\n')\n",
    "\n",
    "for i in range(n_turns):\n",
    "\n",
    "    t0 = time.clock()\n",
    "\n",
    "    machine.track(bunch)\n",
    "\n",
    "    ex, ey, ez = bunch.epsn_x(), bunch.epsn_y(), bunch.epsn_z()\n",
    "    mx, my, mz = bunch.mean_x(), bunch.mean_y(), bunch.mean_z()\n",
    "\n",
    "    bunchmonitor.dump(bunch)\n",
    "\n",
    "    if not monitorswitch:\n",
    "        if mx > 1e-2 or my > 1e-2 or i > n_turns - n_turns_slicemon:\n",
    "            print (\"--> Activate slice monitor\")\n",
    "            monitorswitch = True\n",
    "    else:\n",
    "        if s_cnt < n_turns_slicemon:\n",
    "            slicemonitor.dump(bunch)\n",
    "            s_cnt += 1\n",
    "\n",
    "    if not all(np.isfinite(c) for c in [ex, ey, ez, mx, my, mz]):\n",
    "        print ('*** STOPPING SIMULATION: non-finite bunch stats!')\n",
    "        break\n",
    "\n",
    "    if i % 1000 == 0:\n",
    "        t1 = time.clock()\n",
    "        print ('Emittances: ({:.3g}, {:.3g}, {:.3g}) '\n",
    "               '& Centroids: ({:.3g}, {:.3g}, {:.3g})'\n",
    "               '@ turn {:d}, {:g} ms, {:s}'.format(\n",
    "                    ex, ey, ez, mx, my, mz, i, (t1-t0)*1e3, time.strftime(\n",
    "                        \"%d/%m/%Y %H:%M:%S\", time.localtime()))\n",
    "        )\n",
    "\n",
    "print ('\\n*** Successfully completed!')"
   ]
  },
  {
   "cell_type": "code",
   "execution_count": 38,
   "metadata": {},
   "outputs": [],
   "source": [
    "with h5py.File('./bunchmonitor_0001_chroma=-15.h5','r') as bm:\n",
    "    mean_x = np.array(bm['Bunch']['mean_x'])\n",
    "    mean_y = np.array(bm['Bunch']['mean_y'])"
   ]
  },
  {
   "cell_type": "code",
   "execution_count": 39,
   "metadata": {},
   "outputs": [
    {
     "data": {
      "image/png": "[encoded data removed]",
      "text/plain": [
       "<matplotlib.figure.Figure at 0x7f8ff00efcd0>"
      ]
     },
     "metadata": {},
     "output_type": "display_data"
    }
   ],
   "source": [
    "plt.plot(mean_x, label='x centroid', color='red', alpha=0.6)\n",
    "plt.plot(mean_y, label='y centroid', color='blue', alpha=0.6, zorder=-1)\n",
    "plt.legend(loc=2)\n",
    "#plt.xlim(0, 30)\n",
    "plt.xlabel('turns')\n",
    "plt.ylabel('transverse position $x, y$ [m]')\n",
    "#plt.savefig('../instabilities/with_Damper_Chroma-15', dpi=600)\n",
    "plt.show()"
   ]
  },
  {
   "cell_type": "markdown",
   "metadata": {},
   "source": [
    "with Damper (Chroma = 10 as it's the setup in CERN machines)"
   ]
  },
  {
   "cell_type": "code",
   "execution_count": null,
   "metadata": {},
   "outputs": [],
   "source": [
    "chroma = 10\n",
    "machine = LHC(n_segments=1,\n",
    "             machine_configuration=machine_configuration,\n",
    "             **get_nonlinear_params(chroma=chroma, i_oct=i_oct))\n",
    "bunch = machine.generate_6D_Gaussian_bunch_matched(\n",
    "        n_macroparticles, intensity, epsn_x, epsn_y, sigma_z=sigma_z)\n",
    "machine.one_turn_map.append(wake_field)\n",
    "machine.one_turn_map.append(damper)"
   ]
  },
  {
   "cell_type": "code",
   "execution_count": null,
   "metadata": {},
   "outputs": [],
   "source": [
    "it = 2\n",
    "outputpath = './'\n",
    "\n",
    "try:\n",
    "    bucket = machine.longitudinal_map.get_bucket(bunch)\n",
    "except AttributeError:\n",
    "    bucket = machine.rfbucket\n",
    "\n",
    "simulation_parameters_dict = {\n",
    "    'gamma' : machine.gamma,\n",
    "    'intensity' : intensity,\n",
    "    'Qx' : machine.Q_x,\n",
    "    'Qy' : machine.Q_y,\n",
    "    'Qs' : bucket.Q_s,\n",
    "    'beta_x' : bunch.beta_Twiss_x(),\n",
    "    'beta_y' : bunch.beta_Twiss_y(),\n",
    "    'beta_z' : bucket.beta_z,\n",
    "    'epsn_x' : bunch.epsn_x(),\n",
    "    'epsn_y' : bunch.epsn_y(),\n",
    "    'sigma_z' : bunch.sigma_z(),\n",
    "}\n",
    "bunchmonitor = BunchMonitor(\n",
    "    outputpath+'/bunchmonitor_{:04d}_chroma={:g}'.format(it, chroma),\n",
    "    n_turns, simulation_parameters_dict,\n",
    "    write_buffer_to_file_array=512,\n",
    "    buffersize=4096)\n",
    "slicemonitor = SliceMonitor(\n",
    "    outputpath+'/slicemonitor_{:04d}_chroma={:g}'.format(it, chroma),\n",
    "    n_turns_slicemon,\n",
    "    slicer_for_slicemonitor, simulation_parameters_dict,\n",
    "    write_buffer_to_file_every=1, buffer_size=n_turns_slicemon)\n",
    "\n",
    "s_cnt = 0\n",
    "monitorswitch = False\n",
    "\n",
    "print ('\\n--> Begin tracking...\\n')\n",
    "\n",
    "for i in range(n_turns):\n",
    "\n",
    "    t0 = time.clock()\n",
    "\n",
    "    machine.track(bunch)\n",
    "\n",
    "    ex, ey, ez = bunch.epsn_x(), bunch.epsn_y(), bunch.epsn_z()\n",
    "    mx, my, mz = bunch.mean_x(), bunch.mean_y(), bunch.mean_z()\n",
    "\n",
    "    bunchmonitor.dump(bunch)\n",
    "\n",
    "    if not monitorswitch:\n",
    "        if mx > 1e-2 or my > 1e-2 or i > n_turns - n_turns_slicemon:\n",
    "            print (\"--> Activate slice monitor\")\n",
    "            monitorswitch = True\n",
    "    else:\n",
    "        if s_cnt < n_turns_slicemon:\n",
    "            slicemonitor.dump(bunch)\n",
    "            s_cnt += 1\n",
    "\n",
    "    if not all(np.isfinite(c) for c in [ex, ey, ez, mx, my, mz]):\n",
    "        print ('*** STOPPING SIMULATION: non-finite bunch stats!')\n",
    "        break\n",
    "\n",
    "    if i % 1000 == 0:\n",
    "        t1 = time.clock()\n",
    "        print ('Emittances: ({:.3g}, {:.3g}, {:.3g}) '\n",
    "               '& Centroids: ({:.3g}, {:.3g}, {:.3g})'\n",
    "               '@ turn {:d}, {:g} ms, {:s}'.format(\n",
    "                    ex, ey, ez, mx, my, mz, i, (t1-t0)*1e3, time.strftime(\n",
    "                        \"%d/%m/%Y %H:%M:%S\", time.localtime()))\n",
    "        )\n",
    "\n",
    "print ('\\n*** Successfully completed!')"
   ]
  },
  {
   "cell_type": "code",
   "execution_count": 40,
   "metadata": {},
   "outputs": [],
   "source": [
    "with h5py.File('./bunchmonitor_0002_chroma=10.h5','r') as bm:\n",
    "    mean_x = np.array(bm['Bunch']['mean_x'])\n",
    "    mean_y = np.array(bm['Bunch']['mean_y'])"
   ]
  },
  {
   "cell_type": "code",
   "execution_count": 41,
   "metadata": {
    "scrolled": true
   },
   "outputs": [
    {
     "data": {
      "image/png": "[encoded data removed]",
      "text/plain": [
       "<matplotlib.figure.Figure at 0x7f8ff0153ad0>"
      ]
     },
     "metadata": {},
     "output_type": "display_data"
    }
   ],
   "source": [
    "plt.plot(mean_x, label='x centroid', color='red', alpha=0.6)\n",
    "plt.plot(mean_y, label='y centroid', color='blue', alpha=0.6, zorder=-1)\n",
    "plt.legend(loc=2)\n",
    "#plt.xlim(0, 30)\n",
    "plt.xlabel('turns')\n",
    "plt.ylabel('transverse position $x, y$ [m]')\n",
    "#plt.savefig('../instabilities/with_Damper_Chroma10', dpi=600)\n",
    "plt.show()"
   ]
  },
  {
   "cell_type": "markdown",
   "metadata": {},
   "source": [
    "with damper but though instabilities caused by oscillations with higher modes after many turns (1'000'000), don\"t worry these simulations take hours(Chroma = 10)"
   ]
  },
  {
   "cell_type": "code",
   "execution_count": null,
   "metadata": {},
   "outputs": [],
   "source": [
    "n_turns = 1000000\n",
    "bunch = machine.generate_6D_Gaussian_bunch_matched(\n",
    "        n_macroparticles, intensity, epsn_x, epsn_y, sigma_z=sigma_z)"
   ]
  },
  {
   "cell_type": "code",
   "execution_count": null,
   "metadata": {},
   "outputs": [],
   "source": [
    "it = 3\n",
    "outputpath = './'\n",
    "\n",
    "try:\n",
    "    bucket = machine.longitudinal_map.get_bucket(bunch)\n",
    "except AttributeError:\n",
    "    bucket = machine.rfbucket\n",
    "\n",
    "simulation_parameters_dict = {\n",
    "    'gamma' : machine.gamma,\n",
    "    'intensity' : intensity,\n",
    "    'Qx' : machine.Q_x,\n",
    "    'Qy' : machine.Q_y,\n",
    "    'Qs' : bucket.Q_s,\n",
    "    'beta_x' : bunch.beta_Twiss_x(),\n",
    "    'beta_y' : bunch.beta_Twiss_y(),\n",
    "    'beta_z' : bucket.beta_z,\n",
    "    'epsn_x' : bunch.epsn_x(),\n",
    "    'epsn_y' : bunch.epsn_y(),\n",
    "    'sigma_z' : bunch.sigma_z(),\n",
    "}\n",
    "bunchmonitor = BunchMonitor(\n",
    "    outputpath+'/bunchmonitor_{:04d}_chroma={:g}'.format(it, chroma),\n",
    "    n_turns, simulation_parameters_dict,\n",
    "    write_buffer_to_file_array=512,\n",
    "    buffersize=4096)\n",
    "slicemonitor = SliceMonitor(\n",
    "    outputpath+'/slicemonitor_{:04d}_chroma={:g}'.format(it, chroma),\n",
    "    n_turns_slicemon,\n",
    "    slicer_for_slicemonitor, simulation_parameters_dict,\n",
    "    write_buffer_to_file_every=1, buffer_size=n_turns_slicemon)\n",
    "\n",
    "s_cnt = 0\n",
    "monitorswitch = False\n",
    "\n",
    "print ('\\n--> Begin tracking...\\n')\n",
    "\n",
    "for i in range(n_turns):\n",
    "\n",
    "    t0 = time.clock()\n",
    "\n",
    "    machine.track(bunch)\n",
    "\n",
    "    ex, ey, ez = bunch.epsn_x(), bunch.epsn_y(), bunch.epsn_z()\n",
    "    mx, my, mz = bunch.mean_x(), bunch.mean_y(), bunch.mean_z()\n",
    "\n",
    "    bunchmonitor.dump(bunch)\n",
    "\n",
    "    if not monitorswitch:\n",
    "        if mx > 1e-2 or my > 1e-2 or i > n_turns - n_turns_slicemon:\n",
    "            print (\"--> Activate slice monitor\")\n",
    "            monitorswitch = True\n",
    "    else:\n",
    "        if s_cnt < n_turns_slicemon:\n",
    "            slicemonitor.dump(bunch)\n",
    "            s_cnt += 1\n",
    "\n",
    "    if not all(np.isfinite(c) for c in [ex, ey, ez, mx, my, mz]):\n",
    "        print ('*** STOPPING SIMULATION: non-finite bunch stats!')\n",
    "        break\n",
    "\n",
    "    if i % 1000 == 0:\n",
    "        t1 = time.clock()\n",
    "        print ('Emittances: ({:.3g}, {:.3g}, {:.3g}) '\n",
    "               '& Centroids: ({:.3g}, {:.3g}, {:.3g})'\n",
    "               '@ turn {:d}, {:g} ms, {:s}'.format(\n",
    "                    ex, ey, ez, mx, my, mz, i, (t1-t0)*1e3, time.strftime(\n",
    "                        \"%d/%m/%Y %H:%M:%S\", time.localtime()))\n",
    "        )\n",
    "\n",
    "print ('\\n*** Successfully completed!')"
   ]
  },
  {
   "cell_type": "code",
   "execution_count": 42,
   "metadata": {},
   "outputs": [],
   "source": [
    "with h5py.File('./bunchmonitor_0003_chroma=10.h5','r') as bm:\n",
    "    mean_x = np.array(bm['Bunch']['mean_x'])\n",
    "    mean_y = np.array(bm['Bunch']['mean_y'])"
   ]
  },
  {
   "cell_type": "code",
   "execution_count": 43,
   "metadata": {},
   "outputs": [
    {
     "data": {
      "image/png": "[encoded data removed]",
      "text/plain": [
       "<matplotlib.figure.Figure at 0x7f8ff890fb50>"
      ]
     },
     "metadata": {},
     "output_type": "display_data"
    }
   ],
   "source": [
    "plt.plot(mean_x, label='x centroid', color='red', alpha=0.6)\n",
    "plt.plot(mean_y, label='y centroid', color='blue', alpha=0.6, zorder=-1)\n",
    "plt.legend(loc=2)\n",
    "#plt.xlim(0, 30)\n",
    "plt.xlabel('turns')\n",
    "plt.ylabel('transverse position $x, y$ [m]')\n",
    "#plt.savefig('../instabilities/with_Damper_Chroma10_1000000turns', dpi=600)\n",
    "plt.show()"
   ]
  },
  {
   "cell_type": "markdown",
   "metadata": {},
   "source": [
    "with damper, with octupoles (I=200A) (chroma = 10)"
   ]
  },
  {
   "cell_type": "code",
   "execution_count": null,
   "metadata": {},
   "outputs": [],
   "source": [
    "i_oct = 200\n",
    "machine = LHC(n_segments=1,\n",
    "             machine_configuration=machine_configuration,\n",
    "             **get_nonlinear_params(chroma=chroma, i_oct=i_oct))\n",
    "machine.one_turn_map.append(wake_field)\n",
    "machine.one_turn_map.append(damper)\n",
    "bunch = machine.generate_6D_Gaussian_bunch_matched(\n",
    "        n_macroparticles, intensity, epsn_x, epsn_y, sigma_z=sigma_z)"
   ]
  },
  {
   "cell_type": "code",
   "execution_count": null,
   "metadata": {},
   "outputs": [],
   "source": [
    "it = 4\n",
    "outputpath = './'\n",
    "\n",
    "try:\n",
    "    bucket = machine.longitudinal_map.get_bucket(bunch)\n",
    "except AttributeError:\n",
    "    bucket = machine.rfbucket\n",
    "\n",
    "simulation_parameters_dict = {\n",
    "    'gamma' : machine.gamma,\n",
    "    'intensity' : intensity,\n",
    "    'Qx' : machine.Q_x,\n",
    "    'Qy' : machine.Q_y,\n",
    "    'Qs' : bucket.Q_s,\n",
    "    'beta_x' : bunch.beta_Twiss_x(),\n",
    "    'beta_y' : bunch.beta_Twiss_y(),\n",
    "    'beta_z' : bucket.beta_z,\n",
    "    'epsn_x' : bunch.epsn_x(),\n",
    "    'epsn_y' : bunch.epsn_y(),\n",
    "    'sigma_z' : bunch.sigma_z(),\n",
    "}\n",
    "bunchmonitor = BunchMonitor(\n",
    "    outputpath+'/bunchmonitor_{:04d}_chroma={:g}'.format(it, chroma),\n",
    "    n_turns, simulation_parameters_dict,\n",
    "    write_buffer_to_file_array=512,\n",
    "    buffersize=4096)\n",
    "slicemonitor = SliceMonitor(\n",
    "    outputpath+'/slicemonitor_{:04d}_chroma={:g}'.format(it, chroma),\n",
    "    n_turns_slicemon,\n",
    "    slicer_for_slicemonitor, simulation_parameters_dict,\n",
    "    write_buffer_to_file_every=1, buffer_size=n_turns_slicemon)\n",
    "\n",
    "s_cnt = 0\n",
    "monitorswitch = False\n",
    "\n",
    "print ('\\n--> Begin tracking...\\n')\n",
    "\n",
    "for i in range(n_turns):\n",
    "\n",
    "    t0 = time.clock()\n",
    "\n",
    "    machine.track(bunch)\n",
    "\n",
    "    ex, ey, ez = bunch.epsn_x(), bunch.epsn_y(), bunch.epsn_z()\n",
    "    mx, my, mz = bunch.mean_x(), bunch.mean_y(), bunch.mean_z()\n",
    "\n",
    "    bunchmonitor.dump(bunch)\n",
    "\n",
    "    if not monitorswitch:\n",
    "        if mx > 1e-2 or my > 1e-2 or i > n_turns - n_turns_slicemon:\n",
    "            print (\"--> Activate slice monitor\")\n",
    "            monitorswitch = True\n",
    "    else:\n",
    "        if s_cnt < n_turns_slicemon:\n",
    "            slicemonitor.dump(bunch)\n",
    "            s_cnt += 1\n",
    "\n",
    "    if not all(np.isfinite(c) for c in [ex, ey, ez, mx, my, mz]):\n",
    "        print ('*** STOPPING SIMULATION: non-finite bunch stats!')\n",
    "        break\n",
    "\n",
    "    if i % 1000 == 0:\n",
    "        t1 = time.clock()\n",
    "        print ('Emittances: ({:.3g}, {:.3g}, {:.3g}) '\n",
    "               '& Centroids: ({:.3g}, {:.3g}, {:.3g})'\n",
    "               '@ turn {:d}, {:g} ms, {:s}'.format(\n",
    "                    ex, ey, ez, mx, my, mz, i, (t1-t0)*1e3, time.strftime(\n",
    "                        \"%d/%m/%Y %H:%M:%S\", time.localtime()))\n",
    "        )\n",
    "\n",
    "print ('\\n*** Successfully completed!')"
   ]
  },
  {
   "cell_type": "code",
   "execution_count": 24,
   "metadata": {},
   "outputs": [],
   "source": [
    "with h5py.File('./bunchmonitor_0004_chroma=10.h5','r') as bm:\n",
    "    mean_x = np.array(bm['Bunch']['mean_x'])\n",
    "    mean_y = np.array(bm['Bunch']['mean_y'])"
   ]
  },
  {
   "cell_type": "code",
   "execution_count": 27,
   "metadata": {},
   "outputs": [
    {
     "data": {
      "image/png": "[encoded data removed]",
      "text/plain": [
       "<matplotlib.figure.Figure at 0x7f72532d20d0>"
      ]
     },
     "metadata": {},
     "output_type": "display_data"
    }
   ],
   "source": [
    "plt.plot(mean_x, label='x centroid', color='red', alpha=0.6)\n",
    "plt.plot(mean_y, label='y centroid', color='blue', alpha=0.6, zorder=-1)\n",
    "plt.legend(loc=2)\n",
    "#plt.xlim(0, 30)\n",
    "plt.xlabel('turns')\n",
    "plt.ylabel('transverse position $x, y$ [m]')\n",
    "#plt.savefig('../instabilities/with_damper_with_octupoles_Chroma10_1000000turns')\n",
    "plt.show()"
   ]
  },
  {
   "cell_type": "code",
   "execution_count": null,
   "metadata": {},
   "outputs": [],
   "source": []
  }
 ],
 "metadata": {
  "kernelspec": {
   "display_name": "Python 2",
   "language": "python",
   "name": "python2"
  },
  "language_info": {
   "codemirror_mode": {
    "name": "ipython",
    "version": 2
   },
   "file_extension": ".py",
   "mimetype": "text/x-python",
   "name": "python",
   "nbconvert_exporter": "python",
   "pygments_lexer": "ipython2",
   "version": "2.7.14"
  }
 },
 "nbformat": 4,
 "nbformat_minor": 2
}
